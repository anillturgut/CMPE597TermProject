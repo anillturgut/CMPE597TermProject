{
 "cells": [
  {
   "cell_type": "markdown",
   "id": "f1a950fb",
   "metadata": {},
   "source": [
    "# CMPE 597 Sp. Tp. Deep Learning - Term Project \n",
    "\n",
    "# *DINO Architecture - CIFAR100 Dataset*\n",
    "\n",
    "## *Anıl Turgut* - *2022702072*\n",
    "## *Selahattin Seha Cirit* - *2023705006*"
   ]
  },
  {
   "cell_type": "markdown",
   "id": "e387bd3a",
   "metadata": {},
   "source": [
    "In this Jupyter Notebook, a study was carried out by finetuning the classification model with the image embeddings obtained using the pre-trained self-supervised learning model that we proposed in the project. Image embeddings in this notebook were created using the **DINOv2vits14** model developed by MetaResearch. As the output of this model, there is an embedding list output with 384 dimensions for each image. The results of these embeddings resulting from the pretext task were analyzed using *Single Layer MLP* and *SupportVectorClassifier (SVC)* models."
   ]
  },
  {
   "cell_type": "markdown",
   "id": "ba35c225",
   "metadata": {},
   "source": [
    "Moreover, this notebook includes the analysis of *self-supervised learning* (spesifically DINO) with **CIFAR10** dataset. In the following tasks, we are introduce our work in detail. Let's move on."
   ]
  },
  {
   "cell_type": "markdown",
   "id": "657863a3",
   "metadata": {},
   "source": [
    "## Task 1: Importing Libraries"
   ]
  },
  {
   "cell_type": "code",
   "execution_count": 22,
   "id": "3f0683e0",
   "metadata": {},
   "outputs": [],
   "source": [
    "# Importing necessary libraries\n",
    "import copy\n",
    "import cv2\n",
    "import glob\n",
    "import json\n",
    "import keras\n",
    "import matplotlib.pyplot as plt\n",
    "import numpy as np\n",
    "import os\n",
    "import torch\n",
    "import torch.nn as nn\n",
    "import torch.optim as optim\n",
    "import torch.utils.data as data\n",
    "import torchvision.transforms as T\n",
    "import torchvision.datasets as datasets\n",
    "import tqdm\n",
    "from tqdm.notebook import tqdm as tqdm_note\n",
    "import zipfile\n",
    "from copy import deepcopy\n",
    "from PIL import Image\n",
    "import pandas as pd\n",
    "from sklearn.metrics import accuracy_score, classification_report, f1_score, precision_score, recall_score\n",
    "from sklearn.model_selection import train_test_split\n",
    "from sklearn.preprocessing import OneHotEncoder\n",
    "import socket\n",
    "from tensorflow.keras import datasets as tfdatasets, layers, models"
   ]
  },
  {
   "cell_type": "markdown",
   "id": "4f1fd314",
   "metadata": {},
   "source": [
    "The libraries to be used have been imported as in the cell above. *TensorFlow Keras*, *Torch* and *ScikitLearn* libraries were used when establishing classification models. Other libraries are also used for different purposes."
   ]
  },
  {
   "cell_type": "markdown",
   "id": "17bb6ee2",
   "metadata": {},
   "source": [
    "## Task 2.1: Extracting CIFAR100 Dataset"
   ]
  },
  {
   "cell_type": "code",
   "execution_count": 25,
   "id": "8f4122e4",
   "metadata": {},
   "outputs": [
    {
     "data": {
      "text/html": [
       "<div>\n",
       "<style scoped>\n",
       "    .dataframe tbody tr th:only-of-type {\n",
       "        vertical-align: middle;\n",
       "    }\n",
       "\n",
       "    .dataframe tbody tr th {\n",
       "        vertical-align: top;\n",
       "    }\n",
       "\n",
       "    .dataframe thead th {\n",
       "        text-align: right;\n",
       "    }\n",
       "</style>\n",
       "<table border=\"1\" class=\"dataframe\">\n",
       "  <thead>\n",
       "    <tr style=\"text-align: right;\">\n",
       "      <th></th>\n",
       "      <th>ClassName</th>\n",
       "    </tr>\n",
       "  </thead>\n",
       "  <tbody>\n",
       "    <tr>\n",
       "      <th>0</th>\n",
       "      <td>apple</td>\n",
       "    </tr>\n",
       "    <tr>\n",
       "      <th>1</th>\n",
       "      <td>aquarium_fish</td>\n",
       "    </tr>\n",
       "    <tr>\n",
       "      <th>2</th>\n",
       "      <td>baby</td>\n",
       "    </tr>\n",
       "    <tr>\n",
       "      <th>3</th>\n",
       "      <td>bear</td>\n",
       "    </tr>\n",
       "    <tr>\n",
       "      <th>4</th>\n",
       "      <td>beaver</td>\n",
       "    </tr>\n",
       "  </tbody>\n",
       "</table>\n",
       "</div>"
      ],
      "text/plain": [
       "       ClassName\n",
       "0          apple\n",
       "1  aquarium_fish\n",
       "2           baby\n",
       "3           bear\n",
       "4         beaver"
      ]
     },
     "execution_count": 25,
     "metadata": {},
     "output_type": "execute_result"
    }
   ],
   "source": [
    "class_names = pd.read_csv(\"cifar100_classnames.csv\")\n",
    "\n",
    "if 'Unnamed: 0' in class_names.columns:\n",
    "    class_names.drop(columns=['Unnamed: 0'], inplace=True)\n",
    "\n",
    "(train_images, train_labels), (test_images, test_labels) = tfdatasets.cifar100.load_data()\n",
    "\n",
    "class_names.head()"
   ]
  },
  {
   "cell_type": "markdown",
   "id": "5404890f",
   "metadata": {},
   "source": [
    "The *CIFAR-100* dataset consists of 60000 32x32 colour images in 100 subclasses, with 600 images per class. There are 50000 training images and 10000 test images.\n",
    "\n",
    "This dataset is just like the CIFAR-10, except it has 100 classes containing 600 images each. There are 500 training images and 100 testing images per class. The 100 classes in the CIFAR-100 are grouped into 20 superclasses. Each image comes with a \"fine\" label (the class to which it belongs) and a \"coarse\" label (the superclass to which it belongs).\n",
    "\n",
    "Reference: https://www.cs.toronto.edu/~kriz/cifar.html"
   ]
  },
  {
   "cell_type": "markdown",
   "id": "463c2fc5",
   "metadata": {},
   "source": [
    "*class_names* list is read from csv file. Each class has a label which is its index."
   ]
  },
  {
   "cell_type": "markdown",
   "id": "8d0035d1",
   "metadata": {},
   "source": [
    "## Task 2.2: Pretext Task - Preparing DINO model"
   ]
  },
  {
   "cell_type": "code",
   "execution_count": 167,
   "id": "c07c511e",
   "metadata": {},
   "outputs": [
    {
     "name": "stderr",
     "output_type": "stream",
     "text": [
      "Using cache found in C:\\Users\\anil.turgut/.cache\\torch\\hub\\facebookresearch_dinov2_main\n"
     ]
    }
   ],
   "source": [
    "torch.manual_seed(42)\n",
    "dinov2_vits14 = torch.hub.load(\"facebookresearch/dinov2\", \"dinov2_vits14\")"
   ]
  },
  {
   "cell_type": "markdown",
   "id": "eaf62d41",
   "metadata": {},
   "source": [
    "DINO, a new self supervised system by Facebook AI, is able to learn incredible representations from unlabeled data.It was introduced in their paper “Emerging Properties in Self-Supervised Vision Transformers”. This architecture mainly uses the vision transformers (ViT) to extract information/representation from unlabeled dataset. In other words, A Student ViT learns to predict global features in an image from local patches supervised by the cross entropy loss from a momentum Teacher ViT’s embeddings while doing centering and sharpening to prevent mode collapse.\n",
    "\n",
    "DINO is currently the state of art architecture in Self-Supervised Image Classification - ImageNet1K. That's why we have used this architecture as the backbone of our project. There 4 kind of pretrained backbone models of this architecture provided by *facebookresearch* and we have used the **ViT-S/14 distilled** model with almost **21M** parameters. \n",
    "\n",
    "Using **Torch.hub**, we have loaded the model to our working environment to compute image embeddings as pretext task.\n",
    "\n",
    "References:\n",
    "- https://github.com/facebookresearch/dinov2\n",
    "- https://arxiv.org/abs/2104.14294\n",
    "- https://towardsdatascience.com/dino-emerging-properties-in-self-supervised-vision-transformers-summary-ab91df82cc3c"
   ]
  },
  {
   "cell_type": "code",
   "execution_count": 119,
   "id": "2d8edd3d",
   "metadata": {},
   "outputs": [
    {
     "data": {
      "text/plain": [
       "device(type='cuda')"
      ]
     },
     "execution_count": 119,
     "metadata": {},
     "output_type": "execute_result"
    }
   ],
   "source": [
    "device = torch.device('cuda' if torch.cuda.is_available() else \"cpu\") # sometimes not enough gpu memory\n",
    "#device = \"cpu\"\n",
    "device"
   ]
  },
  {
   "cell_type": "markdown",
   "id": "ab2171bb",
   "metadata": {},
   "source": [
    "Device is mainly selected as Cuda due to its performance. However, our local machines have not powerful gpu (*NVIDIA GeForce MX330 2GB*), sometimes *CPU* is selected intentionally."
   ]
  },
  {
   "cell_type": "code",
   "execution_count": 29,
   "id": "904b5bf3",
   "metadata": {},
   "outputs": [
    {
     "data": {
      "text/plain": [
       "DinoVisionTransformer(\n",
       "  (patch_embed): PatchEmbed(\n",
       "    (proj): Conv2d(3, 384, kernel_size=(14, 14), stride=(14, 14))\n",
       "    (norm): Identity()\n",
       "  )\n",
       "  (blocks): ModuleList(\n",
       "    (0-11): 12 x NestedTensorBlock(\n",
       "      (norm1): LayerNorm((384,), eps=1e-06, elementwise_affine=True)\n",
       "      (attn): MemEffAttention(\n",
       "        (qkv): Linear(in_features=384, out_features=1152, bias=True)\n",
       "        (attn_drop): Dropout(p=0.0, inplace=False)\n",
       "        (proj): Linear(in_features=384, out_features=384, bias=True)\n",
       "        (proj_drop): Dropout(p=0.0, inplace=False)\n",
       "      )\n",
       "      (ls1): LayerScale()\n",
       "      (drop_path1): Identity()\n",
       "      (norm2): LayerNorm((384,), eps=1e-06, elementwise_affine=True)\n",
       "      (mlp): Mlp(\n",
       "        (fc1): Linear(in_features=384, out_features=1536, bias=True)\n",
       "        (act): GELU(approximate='none')\n",
       "        (fc2): Linear(in_features=1536, out_features=384, bias=True)\n",
       "        (drop): Dropout(p=0.0, inplace=False)\n",
       "      )\n",
       "      (ls2): LayerScale()\n",
       "      (drop_path2): Identity()\n",
       "    )\n",
       "  )\n",
       "  (norm): LayerNorm((384,), eps=1e-06, elementwise_affine=True)\n",
       "  (head): Identity()\n",
       ")"
      ]
     },
     "execution_count": 29,
     "metadata": {},
     "output_type": "execute_result"
    }
   ],
   "source": [
    "dinov2_vits14.to(device)"
   ]
  },
  {
   "cell_type": "markdown",
   "id": "22bd348b",
   "metadata": {},
   "source": [
    "We moved our DINO model to the device to ensure that all computations involving the model parameters and inputs will be performed on the specified device. Also, all the computed images' embeddings will have **384** dimensions with this DINO model."
   ]
  },
  {
   "cell_type": "code",
   "execution_count": 120,
   "id": "524bf325",
   "metadata": {},
   "outputs": [],
   "source": [
    "transform_image = T.Compose([T.ToTensor(), T.Resize(244), T.CenterCrop(224), T.Normalize([0.5], [0.5])])\n",
    "\n",
    "def load_image(img: str) -> torch.Tensor:\n",
    "    \"\"\"\n",
    "    Load an image and return a tensor that can be used as an input to DINOv2.\n",
    "    \"\"\"\n",
    "    img = Image.open(img)\n",
    "\n",
    "    transformed_img = transform_image(img)[:3].unsqueeze(0)\n",
    "\n",
    "    return transformed_img\n",
    "\n",
    "def plot_image(tensor_image):\n",
    "    # Convert tensor to NumPy array and transpose dimensions\n",
    "    numpy_img = tensor_image.squeeze().permute(1, 2, 0).cpu().numpy()\n",
    "\n",
    "    # Plot the image\n",
    "    plt.imshow(numpy_img)\n",
    "    plt.axis('off')\n",
    "    plt.show()\n",
    "    \n",
    "\n",
    "def compute_embeddings(images: list) -> list:\n",
    "    \"\"\"\n",
    "    Create an index that contains all of the images in the specified list of files.\n",
    "    \"\"\"\n",
    "    all_embeddings = []\n",
    "    \n",
    "    with torch.no_grad():\n",
    "        \n",
    "      for image in tqdm_note(images):\n",
    "        \n",
    "        image = transform_image(image)[:3].unsqueeze(0)\n",
    "        embeddings = dinov2_vits14(image.to(device))\n",
    "        all_embeddings.append(np.array(embeddings[0].cpu().numpy()).reshape(1, -1).tolist())\n",
    "\n",
    "\n",
    "\n",
    "    return all_embeddings\n"
   ]
  },
  {
   "cell_type": "markdown",
   "id": "4f781d3a",
   "metadata": {},
   "source": [
    "Cell above have 3 functions to help while transforming image to the shape that dino can understand. *load_image* and *plot_image* functions basically loads the *.jpg* or *.png* format images, transformes to the tensor and plot the loaded image respectively. \n",
    "\n",
    "*compute_embeddings* function is defined to compute image embeddings from the given image list using DINO model. In our project, CIFAR training and test image datasets will be executed by this model and output embeddings will be an input for our downstream task *-Classification-*. "
   ]
  },
  {
   "cell_type": "markdown",
   "id": "990993a1",
   "metadata": {},
   "source": [
    "## 2.3 Computing/Loading Embeddings"
   ]
  },
  {
   "cell_type": "markdown",
   "id": "f47506a7",
   "metadata": {},
   "source": [
    "Using *compute_embeddings* function above, we will compute the each image embeddings in train/test dataset. Then, we are going to store this embeddings as JSON file not to recalculate again and again. "
   ]
  },
  {
   "cell_type": "code",
   "execution_count": null,
   "id": "df3ec31f",
   "metadata": {},
   "outputs": [],
   "source": [
    "embeddings = compute_embeddings(train_images)\n",
    "\n",
    "with open(\"CIFAR100Embeddings/_dinocifar100_all_embeddings.json\", \"w\") as f:\n",
    "        f.write(json.dumps(embeddings))\n",
    "\n",
    "test_embeddings = compute_embeddings(test_images)\n",
    "\n",
    "with open(\"CIFAR100Embeddings/_dinocifar100_all_embeddings_test.json\", \"w\") as f:\n",
    "        f.write(json.dumps(test_embeddings))"
   ]
  },
  {
   "cell_type": "code",
   "execution_count": 31,
   "id": "69cd2666",
   "metadata": {},
   "outputs": [],
   "source": [
    "with open('CIFAR100Embeddings/_dinocifar100_all_embeddings.json') as f:\n",
    "    embeddings = json.load(f)\n",
    "    \n",
    "    \n",
    "with open('CIFAR100Embeddings/_dinocifar100_all_embeddings_test.json') as f:\n",
    "    test_embeddings = json.load(f)"
   ]
  },
  {
   "cell_type": "markdown",
   "id": "25f3f5b3",
   "metadata": {},
   "source": [
    "**embeddings** are the computed embeddings for the CIFAR10 training images (50000 records) and **test_embeddings** are the computed embeddings for the CIFAR10 training images (10000 records). We do not need to compute the embeddings for label (y values) since the pretext task is unlabeled. "
   ]
  },
  {
   "cell_type": "code",
   "execution_count": 32,
   "id": "8fff1bc3",
   "metadata": {},
   "outputs": [],
   "source": [
    "copied_training_embeddings = embeddings.copy()\n",
    "copied_training_embeddings = np.array(copied_training_embeddings).reshape(-1, 384)\n",
    "copied_test_embeddings = test_embeddings.copy()\n",
    "copied_test_embeddings = np.array(copied_test_embeddings).reshape(-1, 384)"
   ]
  },
  {
   "cell_type": "markdown",
   "id": "b36dc192",
   "metadata": {},
   "source": [
    "Copied embeddings will be used in the SVC model in below."
   ]
  },
  {
   "cell_type": "markdown",
   "id": "1d4ad6e8",
   "metadata": {},
   "source": [
    "## 2.4 Preparing Dataset for Training"
   ]
  },
  {
   "cell_type": "code",
   "execution_count": 33,
   "id": "5b42f4b9",
   "metadata": {},
   "outputs": [],
   "source": [
    "X_train = embeddings\n",
    "X_train = np.array(X_train).reshape(-1, 384)\n",
    "y_train = train_labels\n",
    "ohe = OneHotEncoder(handle_unknown='ignore', sparse_output=False).fit(y_train)\n",
    "y_train = ohe.transform(y_train)\n",
    "X_test = test_embeddings\n",
    "X_test = np.array(X_test).reshape(-1, 384)\n",
    "y_test = test_labels\n",
    "ohe = OneHotEncoder(handle_unknown='ignore', sparse_output=False).fit(y_test)\n",
    "y_test = ohe.transform(y_test)"
   ]
  },
  {
   "cell_type": "code",
   "execution_count": 34,
   "id": "15780762",
   "metadata": {},
   "outputs": [],
   "source": [
    "# convert pandas DataFrame (X) and numpy array (y) into PyTorch tensors\n",
    "X_train = torch.tensor(X_train, dtype=torch.float32)\n",
    "y_train = torch.tensor(y_train, dtype=torch.float32)\n",
    "X_test = torch.tensor(X_test, dtype=torch.float32)\n",
    "y_test = torch.tensor(y_test, dtype=torch.float32)"
   ]
  },
  {
   "cell_type": "code",
   "execution_count": 35,
   "id": "230d30a6",
   "metadata": {},
   "outputs": [
    {
     "name": "stdout",
     "output_type": "stream",
     "text": [
      "Shape of X_train: torch.Size([50000, 384])\n",
      "Shape of y_train: torch.Size([50000, 100])\n",
      "Shape of X_test: torch.Size([10000, 384])\n",
      "Shape of y_test: torch.Size([10000, 100])\n"
     ]
    }
   ],
   "source": [
    "print(\"Shape of X_train:\",X_train.shape)\n",
    "print(\"Shape of y_train:\",y_train.shape)\n",
    "print(\"Shape of X_test:\",X_test.shape)\n",
    "print(\"Shape of y_test:\",y_test.shape)"
   ]
  },
  {
   "cell_type": "markdown",
   "id": "b75caf60",
   "metadata": {},
   "source": [
    "In preparing dataset section, we reshaped the computed embeddings of images as (-1,384). Also labels are redefined as one-hot-encoded list. Thus, each label record consists of 100 dimensions and including one *1* rest is *0*.\n",
    "\n",
    "All the dataset items are converted to *tensor* to be used in perceptron model."
   ]
  },
  {
   "cell_type": "markdown",
   "id": "fc9610e7",
   "metadata": {},
   "source": [
    "## 3.1 Downstream Task - Single Layer Classification Perceptron Model"
   ]
  },
  {
   "cell_type": "code",
   "execution_count": 36,
   "id": "d4f29392",
   "metadata": {},
   "outputs": [],
   "source": [
    "class DinoVisionTransformerClassifier(nn.Module):\n",
    "    def __init__(self):\n",
    "        super().__init__()\n",
    "        self.hidden = nn.Linear(384, 256)\n",
    "        self.act = nn.ReLU()\n",
    "        self.output = nn.Linear(256, 100)\n",
    "\n",
    "    def forward(self, x):\n",
    "        x = self.act(self.hidden(x))\n",
    "        x = self.output(x)\n",
    "        return x\n",
    "    \n",
    "# loss metric and optimizer\n",
    "model = DinoVisionTransformerClassifier()\n",
    "loss_fn = nn.CrossEntropyLoss()\n",
    "optimizer = optim.Adam(model.parameters(), lr=0.001)\n",
    "\n",
    "# prepare model and training parameters\n",
    "n_epochs = 25\n",
    "batch_size = 64\n",
    "batches_per_epoch = len(X_train) // batch_size"
   ]
  },
  {
   "cell_type": "markdown",
   "id": "6bc24b82",
   "metadata": {},
   "source": [
    "Classifier is designed to classify image labels using embeddings using Single Hidden Layer perceptron model. 384 image embeddings for each image will be corresponded by the hidden layer and 256 hidden units in that layer. Output will be 100 class values through FC layer.\n",
    "\n",
    "Loss is selected as CrossEntropyLoss since the problem is multi-class classification and optimizer is selected as *Adam* optimizer to reduce the effects of hyperparameters and including momentum and SGD mechanism.\n",
    "\n",
    "After analyzing the model training process, epoch numbers and batch sizes selected accordingly."
   ]
  },
  {
   "cell_type": "code",
   "execution_count": 37,
   "id": "ec4c7afe",
   "metadata": {},
   "outputs": [],
   "source": [
    "best_acc = - np.inf   # init to negative infinity\n",
    "best_weights = None\n",
    "train_loss_hist = []\n",
    "train_acc_hist = []\n",
    "test_loss_hist = []\n",
    "test_acc_hist = []"
   ]
  },
  {
   "cell_type": "code",
   "execution_count": 38,
   "id": "cb591529",
   "metadata": {
    "scrolled": true
   },
   "outputs": [
    {
     "name": "stderr",
     "output_type": "stream",
     "text": [
      "Epoch 0: 100%|████████████████████████████████████████████| 781/781 [00:03<00:00, 240.09batch/s, acc=0.781, loss=0.767]\n"
     ]
    },
    {
     "name": "stdout",
     "output_type": "stream",
     "text": [
      "Epoch 0 validation: Cross-entropy=0.69, Accuracy=79.9%\n"
     ]
    },
    {
     "name": "stderr",
     "output_type": "stream",
     "text": [
      "Epoch 1: 100%|████████████████████████████████████████████| 781/781 [00:03<00:00, 253.36batch/s, acc=0.812, loss=0.584]\n"
     ]
    },
    {
     "name": "stdout",
     "output_type": "stream",
     "text": [
      "Epoch 1 validation: Cross-entropy=0.67, Accuracy=80.8%\n"
     ]
    },
    {
     "name": "stderr",
     "output_type": "stream",
     "text": [
      "Epoch 2: 100%|█████████████████████████████████████████████| 781/781 [00:03<00:00, 239.67batch/s, acc=0.859, loss=0.44]\n"
     ]
    },
    {
     "name": "stdout",
     "output_type": "stream",
     "text": [
      "Epoch 2 validation: Cross-entropy=0.70, Accuracy=80.5%\n"
     ]
    },
    {
     "name": "stderr",
     "output_type": "stream",
     "text": [
      "Epoch 3: 100%|████████████████████████████████████████████| 781/781 [00:03<00:00, 256.36batch/s, acc=0.859, loss=0.358]\n"
     ]
    },
    {
     "name": "stdout",
     "output_type": "stream",
     "text": [
      "Epoch 3 validation: Cross-entropy=0.74, Accuracy=80.4%\n"
     ]
    },
    {
     "name": "stderr",
     "output_type": "stream",
     "text": [
      "Epoch 4: 100%|████████████████████████████████████████████| 781/781 [00:03<00:00, 253.24batch/s, acc=0.906, loss=0.272]\n"
     ]
    },
    {
     "name": "stdout",
     "output_type": "stream",
     "text": [
      "Epoch 4 validation: Cross-entropy=0.80, Accuracy=79.8%\n"
     ]
    },
    {
     "name": "stderr",
     "output_type": "stream",
     "text": [
      "Epoch 5: 100%|████████████████████████████████████████████| 781/781 [00:03<00:00, 247.08batch/s, acc=0.922, loss=0.206]\n"
     ]
    },
    {
     "name": "stdout",
     "output_type": "stream",
     "text": [
      "Epoch 5 validation: Cross-entropy=0.86, Accuracy=79.7%\n"
     ]
    },
    {
     "name": "stderr",
     "output_type": "stream",
     "text": [
      "Epoch 6: 100%|████████████████████████████████████████████| 781/781 [00:02<00:00, 261.02batch/s, acc=0.938, loss=0.171]\n"
     ]
    },
    {
     "name": "stdout",
     "output_type": "stream",
     "text": [
      "Epoch 6 validation: Cross-entropy=0.94, Accuracy=79.4%\n"
     ]
    },
    {
     "name": "stderr",
     "output_type": "stream",
     "text": [
      "Epoch 7: 100%|████████████████████████████████████████████| 781/781 [00:03<00:00, 258.84batch/s, acc=0.953, loss=0.117]\n"
     ]
    },
    {
     "name": "stdout",
     "output_type": "stream",
     "text": [
      "Epoch 7 validation: Cross-entropy=1.04, Accuracy=79.0%\n"
     ]
    },
    {
     "name": "stderr",
     "output_type": "stream",
     "text": [
      "Epoch 8: 100%|████████████████████████████████████████████| 781/781 [00:03<00:00, 258.89batch/s, acc=0.938, loss=0.207]\n"
     ]
    },
    {
     "name": "stdout",
     "output_type": "stream",
     "text": [
      "Epoch 8 validation: Cross-entropy=1.16, Accuracy=78.4%\n"
     ]
    },
    {
     "name": "stderr",
     "output_type": "stream",
     "text": [
      "Epoch 9: 100%|███████████████████████████████████████████| 781/781 [00:03<00:00, 251.50batch/s, acc=0.984, loss=0.0609]\n"
     ]
    },
    {
     "name": "stdout",
     "output_type": "stream",
     "text": [
      "Epoch 9 validation: Cross-entropy=1.21, Accuracy=78.7%\n"
     ]
    },
    {
     "name": "stderr",
     "output_type": "stream",
     "text": [
      "Epoch 10: 100%|██████████████████████████████████████████| 781/781 [00:03<00:00, 226.67batch/s, acc=0.984, loss=0.0538]\n"
     ]
    },
    {
     "name": "stdout",
     "output_type": "stream",
     "text": [
      "Epoch 10 validation: Cross-entropy=1.29, Accuracy=78.6%\n"
     ]
    },
    {
     "name": "stderr",
     "output_type": "stream",
     "text": [
      "Epoch 11: 100%|███████████████████████████████████████████| 781/781 [00:03<00:00, 225.66batch/s, acc=0.969, loss=0.139]\n"
     ]
    },
    {
     "name": "stdout",
     "output_type": "stream",
     "text": [
      "Epoch 11 validation: Cross-entropy=1.35, Accuracy=78.7%\n"
     ]
    },
    {
     "name": "stderr",
     "output_type": "stream",
     "text": [
      "Epoch 12: 100%|███████████████████████████████████████████| 781/781 [00:03<00:00, 232.73batch/s, acc=0.953, loss=0.125]\n"
     ]
    },
    {
     "name": "stdout",
     "output_type": "stream",
     "text": [
      "Epoch 12 validation: Cross-entropy=1.45, Accuracy=78.4%\n"
     ]
    },
    {
     "name": "stderr",
     "output_type": "stream",
     "text": [
      "Epoch 13: 100%|███████████████████████████████████████████| 781/781 [00:03<00:00, 246.63batch/s, acc=0.969, loss=0.108]\n"
     ]
    },
    {
     "name": "stdout",
     "output_type": "stream",
     "text": [
      "Epoch 13 validation: Cross-entropy=1.47, Accuracy=78.7%\n"
     ]
    },
    {
     "name": "stderr",
     "output_type": "stream",
     "text": [
      "Epoch 14: 100%|██████████████████████████████████████████████| 781/781 [00:03<00:00, 242.92batch/s, acc=1, loss=0.0394]\n"
     ]
    },
    {
     "name": "stdout",
     "output_type": "stream",
     "text": [
      "Epoch 14 validation: Cross-entropy=1.55, Accuracy=78.3%\n"
     ]
    },
    {
     "name": "stderr",
     "output_type": "stream",
     "text": [
      "Epoch 15: 100%|██████████████████████████████████████████| 781/781 [00:03<00:00, 241.17batch/s, acc=0.984, loss=0.0193]\n"
     ]
    },
    {
     "name": "stdout",
     "output_type": "stream",
     "text": [
      "Epoch 15 validation: Cross-entropy=1.60, Accuracy=78.3%\n"
     ]
    },
    {
     "name": "stderr",
     "output_type": "stream",
     "text": [
      "Epoch 16: 100%|██████████████████████████████████████████| 781/781 [00:03<00:00, 208.13batch/s, acc=0.984, loss=0.0465]\n"
     ]
    },
    {
     "name": "stdout",
     "output_type": "stream",
     "text": [
      "Epoch 16 validation: Cross-entropy=1.65, Accuracy=78.4%\n"
     ]
    },
    {
     "name": "stderr",
     "output_type": "stream",
     "text": [
      "Epoch 17: 100%|██████████████████████████████████████████████| 781/781 [00:03<00:00, 229.91batch/s, acc=1, loss=0.0251]\n"
     ]
    },
    {
     "name": "stdout",
     "output_type": "stream",
     "text": [
      "Epoch 17 validation: Cross-entropy=1.74, Accuracy=78.5%\n"
     ]
    },
    {
     "name": "stderr",
     "output_type": "stream",
     "text": [
      "Epoch 18: 100%|██████████████████████████████████████████| 781/781 [00:03<00:00, 230.76batch/s, acc=0.984, loss=0.0406]\n"
     ]
    },
    {
     "name": "stdout",
     "output_type": "stream",
     "text": [
      "Epoch 18 validation: Cross-entropy=1.72, Accuracy=79.1%\n"
     ]
    },
    {
     "name": "stderr",
     "output_type": "stream",
     "text": [
      "Epoch 19: 100%|██████████████████████████████████████████| 781/781 [00:03<00:00, 229.08batch/s, acc=0.984, loss=0.0488]\n"
     ]
    },
    {
     "name": "stdout",
     "output_type": "stream",
     "text": [
      "Epoch 19 validation: Cross-entropy=1.82, Accuracy=78.5%\n"
     ]
    },
    {
     "name": "stderr",
     "output_type": "stream",
     "text": [
      "Epoch 20: 100%|██████████████████████████████████████████████| 781/781 [00:03<00:00, 233.31batch/s, acc=1, loss=0.0139]\n"
     ]
    },
    {
     "name": "stdout",
     "output_type": "stream",
     "text": [
      "Epoch 20 validation: Cross-entropy=1.92, Accuracy=78.3%\n"
     ]
    },
    {
     "name": "stderr",
     "output_type": "stream",
     "text": [
      "Epoch 21: 100%|██████████████████████████████████████████████| 781/781 [00:03<00:00, 226.75batch/s, acc=1, loss=0.0249]\n"
     ]
    },
    {
     "name": "stdout",
     "output_type": "stream",
     "text": [
      "Epoch 21 validation: Cross-entropy=1.92, Accuracy=79.0%\n"
     ]
    },
    {
     "name": "stderr",
     "output_type": "stream",
     "text": [
      "Epoch 22: 100%|███████████████████████████████████████████| 781/781 [00:03<00:00, 218.18batch/s, acc=0.984, loss=0.102]\n"
     ]
    },
    {
     "name": "stdout",
     "output_type": "stream",
     "text": [
      "Epoch 22 validation: Cross-entropy=1.96, Accuracy=78.8%\n"
     ]
    },
    {
     "name": "stderr",
     "output_type": "stream",
     "text": [
      "Epoch 23: 100%|███████████████████████████████████████████| 781/781 [00:03<00:00, 215.36batch/s, acc=0.953, loss=0.111]\n"
     ]
    },
    {
     "name": "stdout",
     "output_type": "stream",
     "text": [
      "Epoch 23 validation: Cross-entropy=2.03, Accuracy=78.2%\n"
     ]
    },
    {
     "name": "stderr",
     "output_type": "stream",
     "text": [
      "Epoch 24: 100%|██████████████████████████████████████████████| 781/781 [00:03<00:00, 223.91batch/s, acc=1, loss=0.0298]\n"
     ]
    },
    {
     "name": "stdout",
     "output_type": "stream",
     "text": [
      "Epoch 24 validation: Cross-entropy=2.08, Accuracy=78.8%\n"
     ]
    },
    {
     "data": {
      "text/plain": [
       "<All keys matched successfully>"
      ]
     },
     "execution_count": 38,
     "metadata": {},
     "output_type": "execute_result"
    }
   ],
   "source": [
    "# training loop\n",
    "for epoch in range(n_epochs):\n",
    "    epoch_loss = []\n",
    "    epoch_acc = []\n",
    "    # set model in training mode and run through each batch\n",
    "    model.train()\n",
    "    with tqdm.trange(batches_per_epoch, unit=\"batch\", mininterval=0) as bar:\n",
    "        bar.set_description(f\"Epoch {epoch}\")\n",
    "        for i in bar:\n",
    "            # take a batch\n",
    "            start = i * batch_size\n",
    "            X_batch = X_train[start:start+batch_size]\n",
    "            y_batch = y_train[start:start+batch_size]\n",
    "            # forward pass\n",
    "            y_pred = model(X_batch)\n",
    "            loss = loss_fn(y_pred, y_batch)\n",
    "            # backward pass\n",
    "            optimizer.zero_grad()\n",
    "            loss.backward()\n",
    "            # update weights\n",
    "            optimizer.step()\n",
    "            # compute and store metrics\n",
    "            acc = (torch.argmax(y_pred, 1) == torch.argmax(y_batch, 1)).float().mean()\n",
    "            epoch_loss.append(float(loss))\n",
    "            epoch_acc.append(float(acc))\n",
    "            bar.set_postfix(\n",
    "                loss=float(loss),\n",
    "                acc=float(acc)\n",
    "            )\n",
    "    # set model in evaluation mode and run through the test set\n",
    "    model.eval()\n",
    "    y_pred = model(X_test)\n",
    "    ce = loss_fn(y_pred, y_test)\n",
    "    acc = (torch.argmax(y_pred, 1) == torch.argmax(y_test, 1)).float().mean()\n",
    "    ce = float(ce)\n",
    "    acc = float(acc)\n",
    "    train_loss_hist.append(np.mean(epoch_loss))\n",
    "    train_acc_hist.append(np.mean(epoch_acc))\n",
    "    test_loss_hist.append(ce)\n",
    "    test_acc_hist.append(acc)\n",
    "    if acc > best_acc:\n",
    "        best_acc = acc\n",
    "        best_weights = copy.deepcopy(model.state_dict())\n",
    "    print(f\"Epoch {epoch} validation: Cross-entropy={ce:.2f}, Accuracy={acc*100:.1f}%\")\n",
    "\n",
    "# Restore best model\n",
    "model.load_state_dict(best_weights)"
   ]
  },
  {
   "cell_type": "markdown",
   "id": "0a3114a6",
   "metadata": {},
   "source": [
    "Model is trained 25 epochs and resulted with almost 99% percent training accuracy and 79& test accuracy."
   ]
  },
  {
   "cell_type": "code",
   "execution_count": 57,
   "id": "19150eeb",
   "metadata": {
    "scrolled": false
   },
   "outputs": [
    {
     "data": {
      "image/png": "[encoded data removed]",
      "text/plain": [
       "<Figure size 640x480 with 1 Axes>"
      ]
     },
     "metadata": {},
     "output_type": "display_data"
    },
    {
     "data": {
      "image/png": "[encoded data removed]",
      "text/plain": [
       "<Figure size 640x480 with 1 Axes>"
      ]
     },
     "metadata": {},
     "output_type": "display_data"
    }
   ],
   "source": [
    "# Plot the loss and accuracy\n",
    "plt.plot(train_loss_hist, label=\"train\")\n",
    "plt.plot(test_loss_hist, label=\"test\")\n",
    "plt.xlabel(\"epochs\")\n",
    "plt.ylabel(\"cross entropy\")\n",
    "plt.title(\"CE Loss Plot of DINO - CIFAR100 Single Layer Network\")\n",
    "plt.legend()\n",
    "plt.show()\n",
    "\n",
    "plt.plot(train_acc_hist, label=\"train\")\n",
    "plt.plot(test_acc_hist, label=\"test\")\n",
    "plt.xlabel(\"epochs\")\n",
    "plt.ylabel(\"accuracy\")\n",
    "plt.title(\"Accuracy Plot of DINO - CIFAR100 Single Layer Network\")\n",
    "plt.legend()\n",
    "plt.show()"
   ]
  },
  {
   "cell_type": "markdown",
   "id": "29c5deac",
   "metadata": {},
   "source": [
    "Accuracy in training is continuosly improving as expected, whereas test accuracy kind of oscillates but improved. Double depth phenomenon can be seen in second plot. But CE Loss graph shows us that improving training performance might result with decrease in test performance as well. "
   ]
  },
  {
   "cell_type": "markdown",
   "id": "5432fe5f",
   "metadata": {},
   "source": [
    "## 3.2 Downstream Task - TensorFlow Trainer Classification"
   ]
  },
  {
   "cell_type": "markdown",
   "id": "c8adc493",
   "metadata": {},
   "source": [
    "In this part, we have used the *TensorFlow Trainer* module to train classification network. Architecture is similar to the previous model."
   ]
  },
  {
   "cell_type": "code",
   "execution_count": 41,
   "id": "52a2daa1",
   "metadata": {},
   "outputs": [
    {
     "data": {
      "text/html": [
       "<pre style=\"white-space:pre;overflow-x:auto;line-height:normal;font-family:Menlo,'DejaVu Sans Mono',consolas,'Courier New',monospace\"><span style=\"font-weight: bold\">Model: \"sequential_1\"</span>\n",
       "</pre>\n"
      ],
      "text/plain": [
       "\u001b[1mModel: \"sequential_1\"\u001b[0m\n"
      ]
     },
     "metadata": {},
     "output_type": "display_data"
    },
    {
     "data": {
      "text/html": [
       "<pre style=\"white-space:pre;overflow-x:auto;line-height:normal;font-family:Menlo,'DejaVu Sans Mono',consolas,'Courier New',monospace\">┏━━━━━━━━━━━━━━━━━━━━━━━━━━━━━━━━━━━━━━┳━━━━━━━━━━━━━━━━━━━━━━━━━━━━━┳━━━━━━━━━━━━━━━━━┓\n",
       "┃<span style=\"font-weight: bold\"> Layer (type)                         </span>┃<span style=\"font-weight: bold\"> Output Shape                </span>┃<span style=\"font-weight: bold\">         Param # </span>┃\n",
       "┡━━━━━━━━━━━━━━━━━━━━━━━━━━━━━━━━━━━━━━╇━━━━━━━━━━━━━━━━━━━━━━━━━━━━━╇━━━━━━━━━━━━━━━━━┩\n",
       "│ dense_2 (<span style=\"color: #0087ff; text-decoration-color: #0087ff\">Dense</span>)                      │ (<span style=\"color: #00d7ff; text-decoration-color: #00d7ff\">None</span>, <span style=\"color: #00af00; text-decoration-color: #00af00\">256</span>)                 │          <span style=\"color: #00af00; text-decoration-color: #00af00\">98,560</span> │\n",
       "├──────────────────────────────────────┼─────────────────────────────┼─────────────────┤\n",
       "│ dense_3 (<span style=\"color: #0087ff; text-decoration-color: #0087ff\">Dense</span>)                      │ (<span style=\"color: #00d7ff; text-decoration-color: #00d7ff\">None</span>, <span style=\"color: #00af00; text-decoration-color: #00af00\">100</span>)                 │          <span style=\"color: #00af00; text-decoration-color: #00af00\">25,700</span> │\n",
       "└──────────────────────────────────────┴─────────────────────────────┴─────────────────┘\n",
       "</pre>\n"
      ],
      "text/plain": [
       "┏━━━━━━━━━━━━━━━━━━━━━━━━━━━━━━━━━━━━━━┳━━━━━━━━━━━━━━━━━━━━━━━━━━━━━┳━━━━━━━━━━━━━━━━━┓\n",
       "┃\u001b[1m \u001b[0m\u001b[1mLayer (type)                        \u001b[0m\u001b[1m \u001b[0m┃\u001b[1m \u001b[0m\u001b[1mOutput Shape               \u001b[0m\u001b[1m \u001b[0m┃\u001b[1m \u001b[0m\u001b[1m        Param #\u001b[0m\u001b[1m \u001b[0m┃\n",
       "┡━━━━━━━━━━━━━━━━━━━━━━━━━━━━━━━━━━━━━━╇━━━━━━━━━━━━━━━━━━━━━━━━━━━━━╇━━━━━━━━━━━━━━━━━┩\n",
       "│ dense_2 (\u001b[38;5;33mDense\u001b[0m)                      │ (\u001b[38;5;45mNone\u001b[0m, \u001b[38;5;34m256\u001b[0m)                 │          \u001b[38;5;34m98,560\u001b[0m │\n",
       "├──────────────────────────────────────┼─────────────────────────────┼─────────────────┤\n",
       "│ dense_3 (\u001b[38;5;33mDense\u001b[0m)                      │ (\u001b[38;5;45mNone\u001b[0m, \u001b[38;5;34m100\u001b[0m)                 │          \u001b[38;5;34m25,700\u001b[0m │\n",
       "└──────────────────────────────────────┴─────────────────────────────┴─────────────────┘\n"
      ]
     },
     "metadata": {},
     "output_type": "display_data"
    },
    {
     "data": {
      "text/html": [
       "<pre style=\"white-space:pre;overflow-x:auto;line-height:normal;font-family:Menlo,'DejaVu Sans Mono',consolas,'Courier New',monospace\"><span style=\"font-weight: bold\"> Total params: </span><span style=\"color: #00af00; text-decoration-color: #00af00\">124,260</span> (485.39 KB)\n",
       "</pre>\n"
      ],
      "text/plain": [
       "\u001b[1m Total params: \u001b[0m\u001b[38;5;34m124,260\u001b[0m (485.39 KB)\n"
      ]
     },
     "metadata": {},
     "output_type": "display_data"
    },
    {
     "data": {
      "text/html": [
       "<pre style=\"white-space:pre;overflow-x:auto;line-height:normal;font-family:Menlo,'DejaVu Sans Mono',consolas,'Courier New',monospace\"><span style=\"font-weight: bold\"> Trainable params: </span><span style=\"color: #00af00; text-decoration-color: #00af00\">124,260</span> (485.39 KB)\n",
       "</pre>\n"
      ],
      "text/plain": [
       "\u001b[1m Trainable params: \u001b[0m\u001b[38;5;34m124,260\u001b[0m (485.39 KB)\n"
      ]
     },
     "metadata": {},
     "output_type": "display_data"
    },
    {
     "data": {
      "text/html": [
       "<pre style=\"white-space:pre;overflow-x:auto;line-height:normal;font-family:Menlo,'DejaVu Sans Mono',consolas,'Courier New',monospace\"><span style=\"font-weight: bold\"> Non-trainable params: </span><span style=\"color: #00af00; text-decoration-color: #00af00\">0</span> (0.00 B)\n",
       "</pre>\n"
      ],
      "text/plain": [
       "\u001b[1m Non-trainable params: \u001b[0m\u001b[38;5;34m0\u001b[0m (0.00 B)\n"
      ]
     },
     "metadata": {},
     "output_type": "display_data"
    }
   ],
   "source": [
    "from tensorflow.keras import models, layers\n",
    "\n",
    "tf_model = models.Sequential()\n",
    "\n",
    "tf_model.add(layers.Dense(256, activation='relu', input_shape=(384,)))\n",
    "\n",
    "tf_model.add(layers.Dense(100, activation='softmax'))  # Assuming 10 classes, and using softmax activation for multi-class classification\n",
    "\n",
    "tf_model.summary()"
   ]
  },
  {
   "cell_type": "code",
   "execution_count": 42,
   "id": "5c20ccc1",
   "metadata": {},
   "outputs": [],
   "source": [
    "tf_model.compile(optimizer='adam',\n",
    "              loss=keras.losses.SparseCategoricalCrossentropy(from_logits=True),\n",
    "              metrics=['accuracy'])"
   ]
  },
  {
   "cell_type": "markdown",
   "id": "dab96524",
   "metadata": {},
   "source": [
    "Optimizer and loss function is selected as *adam* and *SparseCategoricalCrossEntropy* to see whether there is any improvement in changing loss function."
   ]
  },
  {
   "cell_type": "code",
   "execution_count": 43,
   "id": "1ce5205b",
   "metadata": {
    "scrolled": true
   },
   "outputs": [
    {
     "name": "stdout",
     "output_type": "stream",
     "text": [
      "Epoch 1/25\n"
     ]
    },
    {
     "name": "stderr",
     "output_type": "stream",
     "text": [
      "C:\\Users\\anil.turgut\\AppData\\Local\\anaconda3\\Lib\\site-packages\\keras\\src\\backend\\tensorflow\\nn.py:599: UserWarning: \"`sparse_categorical_crossentropy` received `from_logits=True`, but the `output` argument was produced by a Softmax activation and thus does not represent logits. Was this intended?\n",
      "  output, from_logits = _get_logits(\n"
     ]
    },
    {
     "name": "stdout",
     "output_type": "stream",
     "text": [
      "\u001b[1m1563/1563\u001b[0m \u001b[32m━━━━━━━━━━━━━━━━━━━━\u001b[0m\u001b[37m\u001b[0m \u001b[1m3s\u001b[0m 1ms/step - accuracy: 0.6180 - loss: 1.5843 - val_accuracy: 0.7810 - val_loss: 0.7621\n",
      "Epoch 2/25\n",
      "\u001b[1m1563/1563\u001b[0m \u001b[32m━━━━━━━━━━━━━━━━━━━━\u001b[0m\u001b[37m\u001b[0m \u001b[1m2s\u001b[0m 1ms/step - accuracy: 0.8309 - loss: 0.5583 - val_accuracy: 0.7854 - val_loss: 0.7604\n",
      "Epoch 3/25\n",
      "\u001b[1m1563/1563\u001b[0m \u001b[32m━━━━━━━━━━━━━━━━━━━━\u001b[0m\u001b[37m\u001b[0m \u001b[1m2s\u001b[0m 1ms/step - accuracy: 0.8716 - loss: 0.4136 - val_accuracy: 0.7888 - val_loss: 0.7964\n",
      "Epoch 4/25\n",
      "\u001b[1m1563/1563\u001b[0m \u001b[32m━━━━━━━━━━━━━━━━━━━━\u001b[0m\u001b[37m\u001b[0m \u001b[1m2s\u001b[0m 1ms/step - accuracy: 0.8996 - loss: 0.3121 - val_accuracy: 0.7902 - val_loss: 0.8450\n",
      "Epoch 5/25\n",
      "\u001b[1m1563/1563\u001b[0m \u001b[32m━━━━━━━━━━━━━━━━━━━━\u001b[0m\u001b[37m\u001b[0m \u001b[1m2s\u001b[0m 1ms/step - accuracy: 0.9228 - loss: 0.2440 - val_accuracy: 0.7861 - val_loss: 0.9435\n",
      "Epoch 6/25\n",
      "\u001b[1m1563/1563\u001b[0m \u001b[32m━━━━━━━━━━━━━━━━━━━━\u001b[0m\u001b[37m\u001b[0m \u001b[1m2s\u001b[0m 1ms/step - accuracy: 0.9390 - loss: 0.1857 - val_accuracy: 0.7877 - val_loss: 1.0087\n",
      "Epoch 7/25\n",
      "\u001b[1m1563/1563\u001b[0m \u001b[32m━━━━━━━━━━━━━━━━━━━━\u001b[0m\u001b[37m\u001b[0m \u001b[1m2s\u001b[0m 1ms/step - accuracy: 0.9505 - loss: 0.1527 - val_accuracy: 0.7840 - val_loss: 1.1090\n",
      "Epoch 8/25\n",
      "\u001b[1m1563/1563\u001b[0m \u001b[32m━━━━━━━━━━━━━━━━━━━━\u001b[0m\u001b[37m\u001b[0m \u001b[1m2s\u001b[0m 1ms/step - accuracy: 0.9577 - loss: 0.1280 - val_accuracy: 0.7896 - val_loss: 1.1405\n",
      "Epoch 9/25\n",
      "\u001b[1m1563/1563\u001b[0m \u001b[32m━━━━━━━━━━━━━━━━━━━━\u001b[0m\u001b[37m\u001b[0m \u001b[1m2s\u001b[0m 1ms/step - accuracy: 0.9612 - loss: 0.1151 - val_accuracy: 0.7834 - val_loss: 1.2787\n",
      "Epoch 10/25\n",
      "\u001b[1m1563/1563\u001b[0m \u001b[32m━━━━━━━━━━━━━━━━━━━━\u001b[0m\u001b[37m\u001b[0m \u001b[1m2s\u001b[0m 1ms/step - accuracy: 0.9663 - loss: 0.0977 - val_accuracy: 0.7817 - val_loss: 1.4193\n",
      "Epoch 11/25\n",
      "\u001b[1m1563/1563\u001b[0m \u001b[32m━━━━━━━━━━━━━━━━━━━━\u001b[0m\u001b[37m\u001b[0m \u001b[1m2s\u001b[0m 1ms/step - accuracy: 0.9712 - loss: 0.0859 - val_accuracy: 0.7824 - val_loss: 1.4587\n",
      "Epoch 12/25\n",
      "\u001b[1m1563/1563\u001b[0m \u001b[32m━━━━━━━━━━━━━━━━━━━━\u001b[0m\u001b[37m\u001b[0m \u001b[1m2s\u001b[0m 1ms/step - accuracy: 0.9709 - loss: 0.0852 - val_accuracy: 0.7848 - val_loss: 1.5297\n",
      "Epoch 13/25\n",
      "\u001b[1m1563/1563\u001b[0m \u001b[32m━━━━━━━━━━━━━━━━━━━━\u001b[0m\u001b[37m\u001b[0m \u001b[1m2s\u001b[0m 1ms/step - accuracy: 0.9769 - loss: 0.0692 - val_accuracy: 0.7780 - val_loss: 1.6645\n",
      "Epoch 14/25\n",
      "\u001b[1m1563/1563\u001b[0m \u001b[32m━━━━━━━━━━━━━━━━━━━━\u001b[0m\u001b[37m\u001b[0m \u001b[1m2s\u001b[0m 1ms/step - accuracy: 0.9742 - loss: 0.0761 - val_accuracy: 0.7747 - val_loss: 1.7504\n",
      "Epoch 15/25\n",
      "\u001b[1m1563/1563\u001b[0m \u001b[32m━━━━━━━━━━━━━━━━━━━━\u001b[0m\u001b[37m\u001b[0m \u001b[1m2s\u001b[0m 1ms/step - accuracy: 0.9779 - loss: 0.0647 - val_accuracy: 0.7828 - val_loss: 1.7701\n",
      "Epoch 16/25\n",
      "\u001b[1m1563/1563\u001b[0m \u001b[32m━━━━━━━━━━━━━━━━━━━━\u001b[0m\u001b[37m\u001b[0m \u001b[1m2s\u001b[0m 1ms/step - accuracy: 0.9795 - loss: 0.0592 - val_accuracy: 0.7791 - val_loss: 1.9190\n",
      "Epoch 17/25\n",
      "\u001b[1m1563/1563\u001b[0m \u001b[32m━━━━━━━━━━━━━━━━━━━━\u001b[0m\u001b[37m\u001b[0m \u001b[1m2s\u001b[0m 1ms/step - accuracy: 0.9783 - loss: 0.0656 - val_accuracy: 0.7792 - val_loss: 1.9297\n",
      "Epoch 18/25\n",
      "\u001b[1m1563/1563\u001b[0m \u001b[32m━━━━━━━━━━━━━━━━━━━━\u001b[0m\u001b[37m\u001b[0m \u001b[1m2s\u001b[0m 1ms/step - accuracy: 0.9807 - loss: 0.0595 - val_accuracy: 0.7828 - val_loss: 2.0126\n",
      "Epoch 19/25\n",
      "\u001b[1m1563/1563\u001b[0m \u001b[32m━━━━━━━━━━━━━━━━━━━━\u001b[0m\u001b[37m\u001b[0m \u001b[1m2s\u001b[0m 1ms/step - accuracy: 0.9801 - loss: 0.0614 - val_accuracy: 0.7834 - val_loss: 2.0507\n",
      "Epoch 20/25\n",
      "\u001b[1m1563/1563\u001b[0m \u001b[32m━━━━━━━━━━━━━━━━━━━━\u001b[0m\u001b[37m\u001b[0m \u001b[1m2s\u001b[0m 1ms/step - accuracy: 0.9813 - loss: 0.0542 - val_accuracy: 0.7826 - val_loss: 2.1352\n",
      "Epoch 21/25\n",
      "\u001b[1m1563/1563\u001b[0m \u001b[32m━━━━━━━━━━━━━━━━━━━━\u001b[0m\u001b[37m\u001b[0m \u001b[1m2s\u001b[0m 1ms/step - accuracy: 0.9826 - loss: 0.0540 - val_accuracy: 0.7839 - val_loss: 2.2220\n",
      "Epoch 22/25\n",
      "\u001b[1m1563/1563\u001b[0m \u001b[32m━━━━━━━━━━━━━━━━━━━━\u001b[0m\u001b[37m\u001b[0m \u001b[1m2s\u001b[0m 1ms/step - accuracy: 0.9823 - loss: 0.0541 - val_accuracy: 0.7825 - val_loss: 2.2998\n",
      "Epoch 23/25\n",
      "\u001b[1m1563/1563\u001b[0m \u001b[32m━━━━━━━━━━━━━━━━━━━━\u001b[0m\u001b[37m\u001b[0m \u001b[1m2s\u001b[0m 2ms/step - accuracy: 0.9834 - loss: 0.0503 - val_accuracy: 0.7808 - val_loss: 2.3085\n",
      "Epoch 24/25\n",
      "\u001b[1m1563/1563\u001b[0m \u001b[32m━━━━━━━━━━━━━━━━━━━━\u001b[0m\u001b[37m\u001b[0m \u001b[1m2s\u001b[0m 1ms/step - accuracy: 0.9849 - loss: 0.0471 - val_accuracy: 0.7851 - val_loss: 2.3866\n",
      "Epoch 25/25\n",
      "\u001b[1m1563/1563\u001b[0m \u001b[32m━━━━━━━━━━━━━━━━━━━━\u001b[0m\u001b[37m\u001b[0m \u001b[1m2s\u001b[0m 1ms/step - accuracy: 0.9849 - loss: 0.0501 - val_accuracy: 0.7829 - val_loss: 2.4561\n"
     ]
    }
   ],
   "source": [
    "history = tf_model.fit(copied_training_embeddings, train_labels, epochs=25,\n",
    "                      validation_data = (copied_test_embeddings, test_labels))"
   ]
  },
  {
   "cell_type": "code",
   "execution_count": 44,
   "id": "23071021",
   "metadata": {},
   "outputs": [
    {
     "data": {
      "text/plain": [
       "torch.Size([50000, 100])"
      ]
     },
     "execution_count": 44,
     "metadata": {},
     "output_type": "execute_result"
    }
   ],
   "source": [
    "y_train.shape"
   ]
  },
  {
   "cell_type": "code",
   "execution_count": 58,
   "id": "3a8301cb",
   "metadata": {},
   "outputs": [
    {
     "data": {
      "text/plain": [
       "<matplotlib.legend.Legend at 0x19c0bddae50>"
      ]
     },
     "execution_count": 58,
     "metadata": {},
     "output_type": "execute_result"
    },
    {
     "data": {
      "image/png": "[encoded data removed]",
      "text/plain": [
       "<Figure size 640x480 with 1 Axes>"
      ]
     },
     "metadata": {},
     "output_type": "display_data"
    }
   ],
   "source": [
    "plt.plot(history.history['accuracy'], label='accuracy')\n",
    "plt.plot(history.history['val_accuracy'], label = 'val_accuracy')\n",
    "plt.xlabel('Epoch')\n",
    "plt.ylabel('Accuracy')\n",
    "plt.title(\"Accuracy Plot of DINO - CIFAR100 TensorFlow Trainer\")\n",
    "plt.ylim([0.7, 1])\n",
    "plt.legend(loc='lower right')"
   ]
  },
  {
   "cell_type": "markdown",
   "id": "5fe91d99",
   "metadata": {},
   "source": [
    "Accuracy plot shows that the results of *TF Trainer* and *Single Layer Perceptron* models are similar and satisfied. We can cover almost 80% of the validation image dataset."
   ]
  },
  {
   "cell_type": "markdown",
   "id": "7a0d324f",
   "metadata": {},
   "source": [
    "Let's finally analyze the *Support Vector Classifier (SVC)* model to analyze the results."
   ]
  },
  {
   "cell_type": "markdown",
   "id": "3f3f9979",
   "metadata": {},
   "source": [
    "## 3.3 Downstream Task - Classification Using Support Vector Classifier (SVC)"
   ]
  },
  {
   "cell_type": "markdown",
   "id": "4d446b29",
   "metadata": {},
   "source": [
    "*SVC with gamma parameter* is created as the downstream classification model"
   ]
  },
  {
   "cell_type": "code",
   "execution_count": 48,
   "id": "afedd8ee",
   "metadata": {},
   "outputs": [
    {
     "name": "stdout",
     "output_type": "stream",
     "text": [
      "50000\n"
     ]
    },
    {
     "name": "stderr",
     "output_type": "stream",
     "text": [
      "C:\\Users\\anil.turgut\\AppData\\Local\\anaconda3\\Lib\\site-packages\\sklearn\\utils\\validation.py:1184: DataConversionWarning: A column-vector y was passed when a 1d array was expected. Please change the shape of y to (n_samples, ), for example using ravel().\n",
      "  y = column_or_1d(y, warn=True)\n"
     ]
    },
    {
     "data": {
      "text/html": [
       "<style>#sk-container-id-1 {color: black;}#sk-container-id-1 pre{padding: 0;}#sk-container-id-1 div.sk-toggleable {background-color: white;}#sk-container-id-1 label.sk-toggleable__label {cursor: pointer;display: block;width: 100%;margin-bottom: 0;padding: 0.3em;box-sizing: border-box;text-align: center;}#sk-container-id-1 label.sk-toggleable__label-arrow:before {content: \"▸\";float: left;margin-right: 0.25em;color: #696969;}#sk-container-id-1 label.sk-toggleable__label-arrow:hover:before {color: black;}#sk-container-id-1 div.sk-estimator:hover label.sk-toggleable__label-arrow:before {color: black;}#sk-container-id-1 div.sk-toggleable__content {max-height: 0;max-width: 0;overflow: hidden;text-align: left;background-color: #f0f8ff;}#sk-container-id-1 div.sk-toggleable__content pre {margin: 0.2em;color: black;border-radius: 0.25em;background-color: #f0f8ff;}#sk-container-id-1 input.sk-toggleable__control:checked~div.sk-toggleable__content {max-height: 200px;max-width: 100%;overflow: auto;}#sk-container-id-1 input.sk-toggleable__control:checked~label.sk-toggleable__label-arrow:before {content: \"▾\";}#sk-container-id-1 div.sk-estimator input.sk-toggleable__control:checked~label.sk-toggleable__label {background-color: #d4ebff;}#sk-container-id-1 div.sk-label input.sk-toggleable__control:checked~label.sk-toggleable__label {background-color: #d4ebff;}#sk-container-id-1 input.sk-hidden--visually {border: 0;clip: rect(1px 1px 1px 1px);clip: rect(1px, 1px, 1px, 1px);height: 1px;margin: -1px;overflow: hidden;padding: 0;position: absolute;width: 1px;}#sk-container-id-1 div.sk-estimator {font-family: monospace;background-color: #f0f8ff;border: 1px dotted black;border-radius: 0.25em;box-sizing: border-box;margin-bottom: 0.5em;}#sk-container-id-1 div.sk-estimator:hover {background-color: #d4ebff;}#sk-container-id-1 div.sk-parallel-item::after {content: \"\";width: 100%;border-bottom: 1px solid gray;flex-grow: 1;}#sk-container-id-1 div.sk-label:hover label.sk-toggleable__label {background-color: #d4ebff;}#sk-container-id-1 div.sk-serial::before {content: \"\";position: absolute;border-left: 1px solid gray;box-sizing: border-box;top: 0;bottom: 0;left: 50%;z-index: 0;}#sk-container-id-1 div.sk-serial {display: flex;flex-direction: column;align-items: center;background-color: white;padding-right: 0.2em;padding-left: 0.2em;position: relative;}#sk-container-id-1 div.sk-item {position: relative;z-index: 1;}#sk-container-id-1 div.sk-parallel {display: flex;align-items: stretch;justify-content: center;background-color: white;position: relative;}#sk-container-id-1 div.sk-item::before, #sk-container-id-1 div.sk-parallel-item::before {content: \"\";position: absolute;border-left: 1px solid gray;box-sizing: border-box;top: 0;bottom: 0;left: 50%;z-index: -1;}#sk-container-id-1 div.sk-parallel-item {display: flex;flex-direction: column;z-index: 1;position: relative;background-color: white;}#sk-container-id-1 div.sk-parallel-item:first-child::after {align-self: flex-end;width: 50%;}#sk-container-id-1 div.sk-parallel-item:last-child::after {align-self: flex-start;width: 50%;}#sk-container-id-1 div.sk-parallel-item:only-child::after {width: 0;}#sk-container-id-1 div.sk-dashed-wrapped {border: 1px dashed gray;margin: 0 0.4em 0.5em 0.4em;box-sizing: border-box;padding-bottom: 0.4em;background-color: white;}#sk-container-id-1 div.sk-label label {font-family: monospace;font-weight: bold;display: inline-block;line-height: 1.2em;}#sk-container-id-1 div.sk-label-container {text-align: center;}#sk-container-id-1 div.sk-container {/* jupyter's `normalize.less` sets `[hidden] { display: none; }` but bootstrap.min.css set `[hidden] { display: none !important; }` so we also need the `!important` here to be able to override the default hidden behavior on the sphinx rendered scikit-learn.org. See: https://github.com/scikit-learn/scikit-learn/issues/21755 */display: inline-block !important;position: relative;}#sk-container-id-1 div.sk-text-repr-fallback {display: none;}</style><div id=\"sk-container-id-1\" class=\"sk-top-container\"><div class=\"sk-text-repr-fallback\"><pre>SVC()</pre><b>In a Jupyter environment, please rerun this cell to show the HTML representation or trust the notebook. <br />On GitHub, the HTML representation is unable to render, please try loading this page with nbviewer.org.</b></div><div class=\"sk-container\" hidden><div class=\"sk-item\"><div class=\"sk-estimator sk-toggleable\"><input class=\"sk-toggleable__control sk-hidden--visually\" id=\"sk-estimator-id-1\" type=\"checkbox\" checked><label for=\"sk-estimator-id-1\" class=\"sk-toggleable__label sk-toggleable__label-arrow\">SVC</label><div class=\"sk-toggleable__content\"><pre>SVC()</pre></div></div></div></div></div>"
      ],
      "text/plain": [
       "SVC()"
      ]
     },
     "execution_count": 48,
     "metadata": {},
     "output_type": "execute_result"
    }
   ],
   "source": [
    "from sklearn import svm\n",
    "\n",
    "clf = svm.SVC(gamma='scale')\n",
    "\n",
    "print(len(embeddings))\n",
    "\n",
    "clf.fit(np.array(embeddings).reshape(-1, 384), train_labels)"
   ]
  },
  {
   "cell_type": "markdown",
   "id": "0400be68",
   "metadata": {},
   "source": [
    "Training is completed between training image embeddings and training labels (without one hot encoding)"
   ]
  },
  {
   "cell_type": "code",
   "execution_count": 49,
   "id": "aff3a5c6",
   "metadata": {},
   "outputs": [
    {
     "data": {
      "application/vnd.jupyter.widget-view+json": {
       "model_id": "dc6b3f0fa7ac4db38729cd02b4b8247f",
       "version_major": 2,
       "version_minor": 0
      },
      "text/plain": [
       "  0%|          | 0/50000 [00:00<?, ?it/s]"
      ]
     },
     "metadata": {},
     "output_type": "display_data"
    }
   ],
   "source": [
    "# train metrics\n",
    "y_pred_train_list = []\n",
    "\n",
    "for embed in tqdm_note(embeddings):\n",
    "    \n",
    "    y_pred = clf.predict(np.array(embed).reshape(1, -1))\n",
    "    y_pred_train_list.append(y_pred[0])\n"
   ]
  },
  {
   "cell_type": "code",
   "execution_count": 50,
   "id": "5734f16c",
   "metadata": {},
   "outputs": [
    {
     "data": {
      "application/vnd.jupyter.widget-view+json": {
       "model_id": "cfdfd5d4716444d094f24b3b6c444677",
       "version_major": 2,
       "version_minor": 0
      },
      "text/plain": [
       "  0%|          | 0/10000 [00:00<?, ?it/s]"
      ]
     },
     "metadata": {},
     "output_type": "display_data"
    }
   ],
   "source": [
    "y_pred_test_list = []\n",
    "\n",
    "for embed in tqdm_note(test_embeddings):\n",
    "    \n",
    "    y_pred = clf.predict(np.array(embed).reshape(1, -1))\n",
    "    y_pred_test_list.append(y_pred[0])"
   ]
  },
  {
   "cell_type": "code",
   "execution_count": 54,
   "id": "6ce74776",
   "metadata": {},
   "outputs": [],
   "source": [
    "with open(\"CIFAR100Predictions/dinocifar100trainingpreds.json\", \"w\") as f:\n",
    "        f.write(json.dumps(np.array(y_pred_train_list).tolist()))\n",
    "\n",
    "with open(\"CIFAR100Predictions/dinocifar100testpreds.json\", \"w\") as f:\n",
    "        f.write(json.dumps(np.array(y_pred_test_list).tolist()))"
   ]
  },
  {
   "cell_type": "code",
   "execution_count": 144,
   "id": "cd2d25a5",
   "metadata": {},
   "outputs": [],
   "source": [
    "with open('CIFAR100Predictions/dinocifar100trainingpreds.json') as f:\n",
    "    y_pred_train_list = json.load(f)\n",
    "    \n",
    "    \n",
    "with open('CIFAR100Predictions/dinocifar100testpreds.json') as f:\n",
    "    y_pred_test_list = json.load(f)"
   ]
  },
  {
   "cell_type": "code",
   "execution_count": 55,
   "id": "7eed9054",
   "metadata": {},
   "outputs": [
    {
     "name": "stdout",
     "output_type": "stream",
     "text": [
      "Training Accuracy: 0.942\n",
      "Training Precision: 0.943095\n",
      "Training Recall: 0.942\n",
      "Training F1-score: 0.942222\n"
     ]
    }
   ],
   "source": [
    "# Calculate evaluation metrics on the training data\n",
    "accuracy_train = accuracy_score(train_labels, y_pred_train_list)\n",
    "precision_train = precision_score(train_labels, y_pred_train_list, average='weighted')\n",
    "recall_train = recall_score(train_labels, y_pred_train_list, average='weighted')\n",
    "f1_train = f1_score(train_labels, y_pred_train_list, average='weighted')\n",
    "\n",
    "print(\"Training Accuracy:\", round(accuracy_train,6))\n",
    "print(\"Training Precision:\", round(precision_train,6))\n",
    "print(\"Training Recall:\", round(recall_train,6))\n",
    "print(\"Training F1-score:\", round(f1_train,6))"
   ]
  },
  {
   "cell_type": "code",
   "execution_count": 56,
   "id": "3d54bcdb",
   "metadata": {},
   "outputs": [
    {
     "name": "stdout",
     "output_type": "stream",
     "text": [
      "Test Accuracy: 0.8316\n",
      "Test Precision: 0.836\n",
      "Test Recall: 0.8316\n",
      "Test F1-score: 0.8325\n"
     ]
    }
   ],
   "source": [
    "# Calculate evaluation metrics on test data\n",
    "accuracy = accuracy_score(test_labels, y_pred_test_list)\n",
    "precision = precision_score(test_labels, y_pred_test_list, average='weighted')\n",
    "recall = recall_score(test_labels, y_pred_test_list, average='weighted')\n",
    "f1 = f1_score(test_labels, y_pred_test_list, average='weighted')\n",
    "\n",
    "print(\"Test Accuracy:\", round(accuracy,4))\n",
    "print(\"Test Precision:\", round(precision,4))\n",
    "print(\"Test Recall:\", round(recall,4))\n",
    "print(\"Test F1-score:\", round(f1,4))\n"
   ]
  },
  {
   "cell_type": "code",
   "execution_count": 59,
   "id": "60d0e52b",
   "metadata": {},
   "outputs": [
    {
     "data": {
      "image/png": "[encoded data removed]",
      "text/plain": [
       "<Figure size 640x480 with 1 Axes>"
      ]
     },
     "metadata": {},
     "output_type": "display_data"
    }
   ],
   "source": [
    "train_metrics = [accuracy_train, precision_train, recall_train, f1_train]\n",
    "test_metrics = [accuracy, precision, recall, f1]\n",
    "metrics_labels = ['Accuracy', 'Precision', 'Recall', 'F1 Score']\n",
    "num_metrics = len(metrics_labels)\n",
    "\n",
    "index = np.arange(num_metrics)\n",
    "\n",
    "bar_width = 0.35\n",
    "\n",
    "fig, ax = plt.subplots()\n",
    "\n",
    "train_bars = ax.bar(index, train_metrics, bar_width, label='Train')\n",
    "\n",
    "test_bars = ax.bar(index + bar_width, test_metrics, bar_width, label='Test')\n",
    "\n",
    "ax.set_xlabel('Metrics')\n",
    "ax.set_ylabel('Score')\n",
    "ax.set_title('Training and Test Metrics of DINO - CIFAR 100 SVC')\n",
    "ax.set_xticks(index + bar_width / 2)\n",
    "ax.set_xticklabels(metrics_labels)\n",
    "ax.legend()\n",
    "\n",
    "plt.show()\n"
   ]
  },
  {
   "cell_type": "markdown",
   "id": "fed99468",
   "metadata": {},
   "source": [
    "*SVC* has performed very well with *CIFAR100* embeddings, it has better performance than the neural network classifiers. Test accuracy and other metrics are around 84%."
   ]
  },
  {
   "cell_type": "markdown",
   "id": "d5f8c9bc",
   "metadata": {},
   "source": [
    "## 4.1 Testing Classifier Model Performance on Image from different Dataset"
   ]
  },
  {
   "cell_type": "markdown",
   "id": "e83bbb08",
   "metadata": {},
   "source": [
    "In this part, we will be testing our three downstream models with different dataset(different than CIFAR)"
   ]
  },
  {
   "cell_type": "code",
   "execution_count": 121,
   "id": "52dbf643",
   "metadata": {},
   "outputs": [
    {
     "name": "stderr",
     "output_type": "stream",
     "text": [
      "Clipping input data to the valid range for imshow with RGB data ([0..1] for floats or [0..255] for integers).\n"
     ]
    },
    {
     "data": {
      "image/png": "[encoded data removed]",
      "text/plain": [
       "<Figure size 640x480 with 1 Axes>"
      ]
     },
     "metadata": {},
     "output_type": "display_data"
    }
   ],
   "source": [
    "input_file = \"C:\\\\Users\\\\anil.turgut\\\\Desktop\\\\CMPE597\\\\Project\\\\Code\\\\ExampleTestImages\\\\a0324001.jpg\"\n",
    "new_image = load_image(input_file)\n",
    "\n",
    "plot_image(new_image)"
   ]
  },
  {
   "cell_type": "markdown",
   "id": "2cb570fe",
   "metadata": {},
   "source": [
    "Image is uploaded using *load_image* function"
   ]
  },
  {
   "cell_type": "code",
   "execution_count": 124,
   "id": "ec4d9515",
   "metadata": {},
   "outputs": [
    {
     "data": {
      "text/plain": [
       "DinoVisionTransformer(\n",
       "  (patch_embed): PatchEmbed(\n",
       "    (proj): Conv2d(3, 384, kernel_size=(14, 14), stride=(14, 14))\n",
       "    (norm): Identity()\n",
       "  )\n",
       "  (blocks): ModuleList(\n",
       "    (0-11): 12 x NestedTensorBlock(\n",
       "      (norm1): LayerNorm((384,), eps=1e-06, elementwise_affine=True)\n",
       "      (attn): MemEffAttention(\n",
       "        (qkv): Linear(in_features=384, out_features=1152, bias=True)\n",
       "        (attn_drop): Dropout(p=0.0, inplace=False)\n",
       "        (proj): Linear(in_features=384, out_features=384, bias=True)\n",
       "        (proj_drop): Dropout(p=0.0, inplace=False)\n",
       "      )\n",
       "      (ls1): LayerScale()\n",
       "      (drop_path1): Identity()\n",
       "      (norm2): LayerNorm((384,), eps=1e-06, elementwise_affine=True)\n",
       "      (mlp): Mlp(\n",
       "        (fc1): Linear(in_features=384, out_features=1536, bias=True)\n",
       "        (act): GELU(approximate='none')\n",
       "        (fc2): Linear(in_features=1536, out_features=384, bias=True)\n",
       "        (drop): Dropout(p=0.0, inplace=False)\n",
       "      )\n",
       "      (ls2): LayerScale()\n",
       "      (drop_path2): Identity()\n",
       "    )\n",
       "  )\n",
       "  (norm): LayerNorm((384,), eps=1e-06, elementwise_affine=True)\n",
       "  (head): Identity()\n",
       ")"
      ]
     },
     "execution_count": 124,
     "metadata": {},
     "output_type": "execute_result"
    }
   ],
   "source": [
    "dinov2_vits14.to(device)"
   ]
  },
  {
   "cell_type": "markdown",
   "id": "f987a0ba",
   "metadata": {},
   "source": [
    "### 4.1.1 -  SVC"
   ]
  },
  {
   "cell_type": "code",
   "execution_count": 68,
   "id": "1e622239",
   "metadata": {},
   "outputs": [
    {
     "name": "stdout",
     "output_type": "stream",
     "text": [
      "Predicted class: bridge\n"
     ]
    }
   ],
   "source": [
    "with torch.no_grad():\n",
    "    embedding = dinov2_vits14(new_image.to(device))\n",
    "\n",
    "    prediction = clf.predict(np.array(embedding[0].cpu()).reshape(1, -1))\n",
    "\n",
    "    print(\"Predicted class: \" + class_names['ClassName'].iloc[prediction[0]])"
   ]
  },
  {
   "cell_type": "markdown",
   "id": "87f22eb5",
   "metadata": {},
   "source": [
    "### 4.1.2 -  Single Layer Torch Network"
   ]
  },
  {
   "cell_type": "code",
   "execution_count": 164,
   "id": "29c8c61d",
   "metadata": {},
   "outputs": [
    {
     "name": "stdout",
     "output_type": "stream",
     "text": [
      "Predicted class: willow_tree with value 1.3158058\n",
      "Second Predicted class: bridge with value 1.284671\n"
     ]
    }
   ],
   "source": [
    "with torch.no_grad():\n",
    "    \n",
    "    model.eval()\n",
    "    prediction = model(embedding)\n",
    "    prediction =  prediction.cpu().detach().numpy()\n",
    "    #max_value, index = torch.max(prediction, dim = 1)\n",
    "    max_indices = np.argsort(prediction, axis=1)[:, -2:]\n",
    "    index = np.argmax(prediction, axis = 1)\n",
    "    \n",
    "    print(\"Predicted class: \" + class_names['ClassName'].iloc[index[0]] + \n",
    "          \" with value \" + str(prediction[0][max_indices[0][1]]))\n",
    "    print(\"Second Predicted class: \" + class_names['ClassName'].iloc[max_indices[0][0]] \n",
    "          + \" with value \" + str(prediction[0][max_indices[0][0]]))"
   ]
  },
  {
   "cell_type": "markdown",
   "id": "f10d0f54",
   "metadata": {},
   "source": [
    "### 4.1.3 -  TF Trainer"
   ]
  },
  {
   "cell_type": "code",
   "execution_count": 103,
   "id": "7ebbbef5",
   "metadata": {},
   "outputs": [
    {
     "name": "stdout",
     "output_type": "stream",
     "text": [
      "\u001b[1m1/1\u001b[0m \u001b[32m━━━━━━━━━━━━━━━━━━━━\u001b[0m\u001b[37m\u001b[0m \u001b[1m0s\u001b[0m 21ms/step\n",
      "Predicted class: bridge\n"
     ]
    }
   ],
   "source": [
    "prediction = tf_model.predict(embedding)\n",
    "\n",
    "print(\"Predicted class: \" +class_names['ClassName'].iloc[np.argmax(prediction,axis = 1)[0]])"
   ]
  },
  {
   "cell_type": "markdown",
   "id": "a6fd7702",
   "metadata": {},
   "source": [
    "All of 3 classifiers can can correctly classify images which are not from neither test nor training dataset"
   ]
  },
  {
   "cell_type": "markdown",
   "id": "75474338",
   "metadata": {},
   "source": [
    "## 5. Results/Analysis"
   ]
  },
  {
   "cell_type": "markdown",
   "id": "28acdc99",
   "metadata": {},
   "source": [
    "*DINO* is a self-supervised learning (SSL) model architecture which is developed by *FacebookAI* is the state of art architecture in SSL-Image Classification context. In this notebook, we have analyzed ImageNet1k fed pretrained *dino* model with the **CIFAR100** dataset. Image embeddings obtained from *DINO* model are used as an input to train 3 different classification model/networks as following: *Single Layer Network*, *TensorFlow Trainer* and *Support Vector Classifier*.\n",
    "\n",
    "All of the 3 models performed significantly well in both *CIFAR* training and test dataset almost over **84%** accuracy. In other words, without memorizing, output embeddings are fit to these models to classify unknown images' labels. \n",
    "\n",
    "However, SVC model is the best performed model in terms of test dataset performance metrics.\n",
    "\n",
    "In terms of performance/memory of the algorithm analysis, *neural network classifiers* are more efficient than the *SVC* in terms of both speed and the memory usage."
   ]
  },
  {
   "cell_type": "markdown",
   "id": "f858434c",
   "metadata": {},
   "source": [
    "## References"
   ]
  },
  {
   "cell_type": "markdown",
   "id": "d579f477",
   "metadata": {},
   "source": [
    "- https://www.cs.toronto.edu/~kriz/cifar.html\n",
    "- https://github.com/facebookresearch/dinov2\n",
    "- https://arxiv.org/abs/2104.14294\n",
    "- https://towardsdatascience.com/dino-emerging-properties-in-self-supervised-vision-transformers-summary-ab91df82cc3c\n",
    "- https://arxiv.org/abs/2010.11929v2\n",
    "- https://arxiv.org/abs/1706.03762\n",
    "- https://paperswithcode.com/sota/self-supervised-image-classification-on"
   ]
  }
 ],
 "metadata": {
  "kernelspec": {
   "display_name": "Python 3 (ipykernel)",
   "language": "python",
   "name": "python3"
  },
  "language_info": {
   "codemirror_mode": {
    "name": "ipython",
    "version": 3
   },
   "file_extension": ".py",
   "mimetype": "text/x-python",
   "name": "python",
   "nbconvert_exporter": "python",
   "pygments_lexer": "ipython3",
   "version": "3.11.5"
  }
 },
 "nbformat": 4,
 "nbformat_minor": 5
}
